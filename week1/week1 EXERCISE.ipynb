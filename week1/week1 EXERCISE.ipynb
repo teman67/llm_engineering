{
 "cells": [
  {
   "cell_type": "markdown",
   "id": "fe12c203-e6a6-452c-a655-afb8a03a4ff5",
   "metadata": {},
   "source": [
    "# End of week 1 exercise\n",
    "\n",
    "To demonstrate your familiarity with OpenAI API, and also Ollama, build a tool that takes a technical question,  \n",
    "and responds with an explanation. This is a tool that you will be able to use yourself during the course!"
   ]
  },
  {
   "cell_type": "code",
   "execution_count": 1,
   "id": "c1070317-3ed9-4659-abe3-828943230e03",
   "metadata": {},
   "outputs": [],
   "source": [
    "# imports\n",
    "import openai\n",
    "from openai import OpenAI\n",
    "import os\n",
    "from dotenv import load_dotenv\n"
   ]
  },
  {
   "cell_type": "code",
   "execution_count": 2,
   "id": "4a456906-915a-4bfd-bb9d-57e505c5093f",
   "metadata": {},
   "outputs": [],
   "source": [
    "# constants\n",
    "\n",
    "MODEL_GPT = 'gpt-4o-mini'\n",
    "MODEL_LLAMA = 'llama3.2'"
   ]
  },
  {
   "cell_type": "code",
   "execution_count": 3,
   "id": "a8d7923c-5f28-4c30-8556-342d7c8497c1",
   "metadata": {},
   "outputs": [],
   "source": [
    "# set up environment\n",
    "# Load environment variables from .env file\n",
    "load_dotenv()\n",
    "\n",
    "# Set up OpenAI client with API key from environment\n",
    "client = OpenAI(api_key=os.getenv('OPENAI_API_KEY'))\n"
   ]
  },
  {
   "cell_type": "code",
   "execution_count": 4,
   "id": "3f0d0137-52b0-47a8-81a8-11a90a010798",
   "metadata": {},
   "outputs": [],
   "source": [
    "# here is the question; type over this to ask something new\n",
    "\n",
    "question = \"\"\"\n",
    "Please explain what this code does and why:\n",
    "yield from {book.get(\"author\") for book in books if book.get(\"author\")}\n",
    "\"\"\""
   ]
  },
  {
   "cell_type": "code",
   "execution_count": 5,
   "id": "60ce7000-a4a5-4cce-a261-e75ef45063b4",
   "metadata": {},
   "outputs": [
    {
     "name": "stdout",
     "output_type": "stream",
     "text": [
      "The code you've provided is a generator expression that uses `yield from` along with a set comprehension. Let's break it down step by step:\n",
      "\n",
      "1. **Set Comprehension**: `{book.get(\"author\") for book in books if book.get(\"author\")}`\n",
      "   - This part is creating a set of unique authors from a list (or iterable) called `books`.\n",
      "   - It iterates over each `book` in `books`.\n",
      "   - For each `book`, it attempts to retrieve the value associated with the key `\"author\"` using `book.get(\"author\")`.\n",
      "   - The `if book.get(\"author\")` condition ensures that only those books which have an author (i.e., where `book.get(\"author\")` is not `None`, `''`, or not falsy) are considered.\n",
      "   - The result of this comprehension is a set of all authors from the `books` iterable.\n",
      "\n",
      "2. **Yield from**: `yield from { ... }`\n",
      "   - The `yield from` statement is used in generator functions to yield all items from a given iterable.\n",
      "   - In this case, it will yield each author from the set created by the set comprehension one by one.\n",
      "   - Since the comprehension produces a set, all authors handled here will be unique—duplicate authors will only appear once in the output.\n",
      "\n",
      "### Purpose of the Code\n",
      "The purpose of this code is to create a generator that yields each unique author from a collection of books provided in the `books` iterable. This is especially useful when you want to process or utilize these authors one at a time, rather than storing them all in memory at once.\n",
      "\n",
      "### Performance Consideration\n",
      "Using `yield from` allows for a more memory-efficient way of handling potentially large amounts of data (if `books` is large) since it doesn't create a list of authors upfront but rather yields each one as needed. This is a common idiom in Python to maintain the efficiency of programs that process large datasets.\n",
      "\n",
      "Here’s how you might use this generator in practice:\n",
      "\n",
      "```python\n",
      "for author in authors_generator(books):\n",
      "    print(author)\n",
      "```\n",
      "\n",
      "Assuming `authors_generator` is the function that contains the original code, this loop would print each unique author found in the `books` list."
     ]
    }
   ],
   "source": [
    "# Get gpt-4o-mini to answer, with streaming\n",
    "response = client.chat.completions.create(\n",
    "    model=MODEL_GPT,\n",
    "    messages=[\n",
    "        {\"role\": \"user\", \"content\": question}\n",
    "    ],\n",
    "    stream=True\n",
    ")\n",
    "\n",
    "# Print the response as it streams\n",
    "for chunk in response:\n",
    "    if chunk.choices[0].delta.content is not None:\n",
    "        print(chunk.choices[0].delta.content, end='')"
   ]
  },
  {
   "cell_type": "code",
   "execution_count": null,
   "id": "8f7c8ea8-4082-4ad0-8751-3301adcf6538",
   "metadata": {},
   "outputs": [
    {
     "name": "stdout",
     "output_type": "stream",
     "text": [
      "This is a Python snippet that uses a combination of the `yield` keyword, generator expressions, and dictionary methods. Let's break it down:\n",
      "\n",
      "1. `for book in books`: This part iterates over an iterable object named `books`. The exact nature of `books` (e.g., a list, tuple, or another iterable) isn't specified here.\n",
      "2. `if book.get(\"author\")`: For each item in the `books` iterable, this condition filters out any items that don't have a key named \"author\". This is done using the `get()` method of dictionaries (which `book` might be), which returns `None` if the key doesn't exist.\n",
      "3. `{book.get(\"author\") for book in books if book.get(\"author\")}`: This part is a generator expression, which creates an iterable sequence on-the-fly without storing it all in memory at once.\n",
      "\n",
      "Here's what happens inside the generator expression:\n",
      "\n",
      "- For each `book` that passes the filter (i.e., has an \"author\" key), its value for that key (`book.get(\"author\")`) is included in the generated sequence.\n",
      "- The values are yielded one by one, allowing the caller to process them without having to load all of them into memory at once.\n",
      "\n",
      "The `yield from` part:\n",
      "\n",
      "1. `yield from`: This keyword tells Python to use a sub-generators instead of an iterator to yield its results.\n",
      "2. `{...}`: This is the sub-generator expression. It's just like the one before, but it yields each value directly without wrapping them in another iterable.\n",
      "\n",
      "So, when combined with the outer `yield from` and inner generator expression, this code essentially:\n",
      "\n",
      "- Iterates over a collection of items (`books`) that have an \"author\" key.\n",
      "- Yields the values of those keys for each item, one by one.\n",
      "\n",
      "In terms of why this code might be used, it's likely to be part of a larger system that needs to process a list of books with authors. The `yield from` and generator expression together provide a concise way to create an iterator that yields author names without having to explicitly create a new iterable or use other intermediate data structures.\n",
      "\n",
      "Example usage:\n",
      "\n",
      "```python\n",
      "def get_authors(books):\n",
      "    yield from {book.get(\"author\") for book in books if book.get(\"author\")}\n",
      "\n",
      "# Assuming 'books' is a list of dictionaries with an 'author' key.\n",
      "books = [\n",
      "    {\"title\": \"Book1\", \"author\": \"Author1\"},\n",
      "    {\"title\": \"Book2\", \"author\": None},\n",
      "    {\"title\": \"Book3\", \"author\": \"Author3\"}\n",
      "]\n",
      "\n",
      "for author in get_authors(books):\n",
      "    print(author)\n",
      "```\n",
      "\n",
      "This would output:\n",
      "\n",
      "```\n",
      "Author1\n",
      "Author3\n",
      "```"
     ]
    }
   ],
   "source": [
    "import requests\n",
    "import json\n",
    "\n",
    "\n",
    "OLLAMA_API_URL = \"http://localhost:11434/api/generate\"\n",
    "\n",
    "response = requests.post(\n",
    "    OLLAMA_API_URL,\n",
    "    json={\n",
    "        \"model\": MODEL_LLAMA,\n",
    "        \"prompt\": question,\n",
    "        \"stream\": True\n",
    "    },\n",
    "    stream=True\n",
    ")\n",
    "\n",
    "# Print the response as it streams\n",
    "for chunk in response.iter_lines():\n",
    "    if chunk:\n",
    "        # Parse the JSON response\n",
    "        chunk_data = json.loads(chunk)\n",
    "        if 'response' in chunk_data:\n",
    "            print(chunk_data['response'], end='')\n",
    "\n"
   ]
  },
  {
   "cell_type": "code",
   "execution_count": null,
   "id": "9ad23c9a",
   "metadata": {},
   "outputs": [],
   "source": []
  }
 ],
 "metadata": {
  "kernelspec": {
   "display_name": "llm_engineering",
   "language": "python",
   "name": "python3"
  },
  "language_info": {
   "codemirror_mode": {
    "name": "ipython",
    "version": 3
   },
   "file_extension": ".py",
   "mimetype": "text/x-python",
   "name": "python",
   "nbconvert_exporter": "python",
   "pygments_lexer": "ipython3",
   "version": "3.11.11"
  }
 },
 "nbformat": 4,
 "nbformat_minor": 5
}
